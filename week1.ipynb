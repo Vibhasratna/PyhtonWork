{
 "cells": [
  {
   "cell_type": "code",
   "execution_count": 15,
   "id": "f1492148",
   "metadata": {},
   "outputs": [
    {
     "name": "stdout",
     "output_type": "stream",
     "text": [
      "hello world\n"
     ]
    }
   ],
   "source": [
    "print(\"hello world\")"
   ]
  },
  {
   "cell_type": "code",
   "execution_count": 33,
   "id": "79ae59f0",
   "metadata": {},
   "outputs": [
    {
     "name": "stdout",
     "output_type": "stream",
     "text": [
      "first number is: 12\n",
      "Enter the Operator:-\n",
      "second number is: 12\n",
      "12 - 12 = 0\n"
     ]
    }
   ],
   "source": [
    " a = int(input(\"first number is: \"))\n",
    "\n",
    "op = input(\"Enter the Operator:\")\n",
    "\n",
    "b = 12\n",
    "print(\"second number is:\",b)\n",
    "\n",
    "if op == '+':\n",
    "         print(a,\"+\", b,\"=\",a+b)\n",
    "elif op == '-':\n",
    "         print(a,\"-\", b,\"=\",a-b)\n",
    "elif op == '*':\n",
    "         print(a,\"*\", b,\"=\",a*b)\n",
    "elif op == '/':\n",
    "         print(a,\"/\", b,\"=\",a/b)\n",
    "else:\n",
    "        print(\"unknow opertor: \",op)"
   ]
  },
  {
   "cell_type": "code",
   "execution_count": 30,
   "id": "83d7c7ae",
   "metadata": {},
   "outputs": [
    {
     "name": "stdout",
     "output_type": "stream",
     "text": [
      "My name is: Vibhas Ratna\n"
     ]
    }
   ],
   "source": [
    "name = \"Vibhas Ratna\"\n",
    "print(\"My name is:\",name)\n"
   ]
  },
  {
   "cell_type": "code",
   "execution_count": 35,
   "id": "6aaae6a8",
   "metadata": {},
   "outputs": [
    {
     "name": "stdout",
     "output_type": "stream",
     "text": [
      "The celsius is: 12\n",
      "12.0 ° C into fahrenheit is: 53.6 °F\n"
     ]
    }
   ],
   "source": [
    "a= float(input(\"The celsius is: \"))\n",
    "\n",
    "b= a * 9/5 + 32\n",
    "\n",
    "print(a,\"° C into fahrenheit is:\",b,\"°F\")"
   ]
  },
  {
   "cell_type": "code",
   "execution_count": 38,
   "id": "4fc88481",
   "metadata": {},
   "outputs": [
    {
     "name": "stdout",
     "output_type": "stream",
     "text": [
      "Enter the Length of Rectangle: 12\n",
      "Enter the Width of Rectangle: 11.4\n",
      "Area of Rectangle having L= 12.0 and W= 11.4 is:  136.8\n"
     ]
    }
   ],
   "source": [
    "a= float(input(\"Enter the Length of Rectangle: \"))\n",
    "b= float(input(\"Enter the Width of Rectangle: \"))\n",
    "\n",
    "print(\"Area of Rectangle having L=\",a,\"and W=\",b, \"is: \",a*b)"
   ]
  },
  {
   "cell_type": "code",
   "execution_count": 41,
   "id": "66b530a0",
   "metadata": {},
   "outputs": [
    {
     "name": "stdout",
     "output_type": "stream",
     "text": [
      "Enter the Principal: 1200\n",
      "Enter the interest rate: 4.90\n",
      "Enter the time(in years): 3\n",
      "Simple Interest is:  176.4\n"
     ]
    }
   ],
   "source": [
    "p= float(input(\"Enter the Principal: \"))\n",
    "r= float(input(\"Enter the interest rate: \"))\n",
    "t= float(input(\"Enter the time(in years): \"))\n",
    "\n",
    "print(\"Simple Interest is: \",(p*r*t)/100)"
   ]
  },
  {
   "cell_type": "code",
   "execution_count": 46,
   "id": "b37337b8",
   "metadata": {},
   "outputs": [
    {
     "name": "stdout",
     "output_type": "stream",
     "text": [
      "Enter the Number: 12\n",
      "12.0 is an Even.\n"
     ]
    }
   ],
   "source": [
    "num= float(input(\"Enter the Number: \"))\n",
    "\n",
    "if(num % 2==0):\n",
    "    print(num,\"is an Even.\")\n",
    "else:\n",
    "    print(num,\"is an odd.\")"
   ]
  },
  {
   "cell_type": "code",
   "execution_count": 49,
   "id": "71500067",
   "metadata": {},
   "outputs": [
    {
     "name": "stdout",
     "output_type": "stream",
     "text": [
      "VR\n",
      "vr\n"
     ]
    }
   ],
   "source": [
    "str = \"vR\"\n",
    "print(str.upper())\n",
    "print(str.lower())"
   ]
  },
  {
   "cell_type": "code",
   "execution_count": 51,
   "id": "b1b752cf",
   "metadata": {},
   "outputs": [
    {
     "name": "stdout",
     "output_type": "stream",
     "text": [
      "Guess the Number : 6\n",
      "Better Luck Next time!! 7\n"
     ]
    }
   ],
   "source": [
    "import random\n",
    "\n",
    "n =random.randrange(1,10)\n",
    "num= float(input(\"Guess the Number : \"))\n",
    "\n",
    "if n == num:\n",
    "    print(\"Guessed the correct number:\",n,\"=\",num)\n",
    "else:\n",
    "    print(\"Better Luck Next time!!\",n)\n"
   ]
  },
  {
   "cell_type": "code",
   "execution_count": null,
   "id": "129d908f",
   "metadata": {},
   "outputs": [],
   "source": []
  }
 ],
 "metadata": {
  "kernelspec": {
   "display_name": "Python 3 (ipykernel)",
   "language": "python",
   "name": "python3"
  },
  "language_info": {
   "codemirror_mode": {
    "name": "ipython",
    "version": 3
   },
   "file_extension": ".py",
   "mimetype": "text/x-python",
   "name": "python",
   "nbconvert_exporter": "python",
   "pygments_lexer": "ipython3",
   "version": "3.11.4"
  }
 },
 "nbformat": 4,
 "nbformat_minor": 5
}
